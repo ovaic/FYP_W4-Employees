{
 "cells": [
  {
   "cell_type": "code",
   "execution_count": null,
   "id": "a51716f7",
   "metadata": {},
   "outputs": [],
   "source": [
    "# activity_data = ['smoking', 'person', 'A', '5:00'] from activity recog and face recog\n",
    "# activity_data = ['shooting', 'unknown', 'B', 'time'] from activity recog and face recog\n",
    "# activity_data = ['punching', 'person', 'B', 'time'] from activity recog and face recog\n",
    "\n",
    "# policy = ['id':3, 'activity': 'smoking', 'zone': 'A', 'time_duration': 5, 'isallowed': False]\n",
    "# policy = ['id':3, 'activity': 'smoking', 'zone': None, 'time': 5, 'isallowed': False]\n",
    "# policy = ['id':3, 'activity': 'smoking', 'zone': 'A', 'time': None, 'isallowed': False]\n",
    "# policy = ['id':3, 'activity': 'smoking', 'zone': 'A', 'time': 5, 'isallowed': False]\n",
    "\n",
    "temp_data = [['smoking', 2 , 'A', '5:04' , 4]]\n",
    "def check_policy(activity_data):\n",
    "    \n",
    "    if activity_data[3] != None:\n",
    "        for temp in temp_data:\n",
    "            if temp[0] == activity_data[0] and temp[1] == activity_data[1] and activity_data[1] != 'unknown':\n",
    "                flag = 1\n",
    "        \n",
    "                \n",
    "                \n",
    "    violations = []\n",
    "    # select * from Policy where Policy.activity = activity\n",
    "    # policies = [id, activity, zone, time, allowed/disallowed]\n",
    "    for policy in policies:\n",
    "        if zone != None and activity_data[2] == policies[2]:\n",
    "            violation.append([activity_data[0], activity_data[1], activity_data[2], activity_data[3], policy[0]])\n",
    "        if policy[4] == False:\n",
    "            violation.append([activity_data[0], activity_data[1], activity_data[2], activity_data[3], policy[0]])\n"
   ]
  },
  {
   "cell_type": "code",
   "execution_count": null,
   "id": "d6127c16",
   "metadata": {},
   "outputs": [],
   "source": []
  },
  {
   "cell_type": "code",
   "execution_count": 1,
   "id": "42b50c5e",
   "metadata": {},
   "outputs": [
    {
     "name": "stdout",
     "output_type": "stream",
     "text": [
      "Local time: Thu Dec 27 20:49:29 2018\n"
     ]
    }
   ],
   "source": [
    "import time\n",
    "\n",
    "# seconds passed since epoch\n",
    "seconds = 1545925769.9618232\n",
    "local_time = time.ctime(seconds)\n",
    "print(\"Local time:\", local_time)\t"
   ]
  },
  {
   "cell_type": "code",
   "execution_count": 7,
   "id": "139ad12f",
   "metadata": {},
   "outputs": [
    {
     "name": "stdout",
     "output_type": "stream",
     "text": [
      "2022-11-06 12:34:59.100247\n",
      "Current Time = 12:34:59\n"
     ]
    }
   ],
   "source": [
    "from datetime import datetime\n",
    "\n",
    "now = datetime.now()\n",
    "print(now)\n",
    "current_time = now.strftime(\"%H:%M:%S\")\n",
    "print(\"Current Time =\", current_time)"
   ]
  },
  {
   "cell_type": "code",
   "execution_count": 8,
   "id": "5c540220",
   "metadata": {},
   "outputs": [
    {
     "name": "stdout",
     "output_type": "stream",
     "text": [
      "754\n"
     ]
    }
   ],
   "source": [
    "def convert_time_minutes(time):\n",
    "    x = time.split(':')\n",
    "    minutes = int(x[0])*60 + int(x[1])\n",
    "    print(minutes)\n",
    "    \n",
    "convert_time_minutes(current_time)"
   ]
  },
  {
   "cell_type": "code",
   "execution_count": 1,
   "id": "2f8d11e4",
   "metadata": {},
   "outputs": [
    {
     "name": "stderr",
     "output_type": "stream",
     "text": [
      "Matplotlib is building the font cache; this may take a moment.\n"
     ]
    },
    {
     "ename": "ModuleNotFoundError",
     "evalue": "No module named 'tensorflow'",
     "output_type": "error",
     "traceback": [
      "\u001b[1;31m---------------------------------------------------------------------------\u001b[0m",
      "\u001b[1;31mModuleNotFoundError\u001b[0m                       Traceback (most recent call last)",
      "Input \u001b[1;32mIn [1]\u001b[0m, in \u001b[0;36m<cell line: 3>\u001b[1;34m()\u001b[0m\n\u001b[0;32m      1\u001b[0m \u001b[38;5;28;01mimport\u001b[39;00m \u001b[38;5;21;01mmatplotlib\u001b[39;00m\u001b[38;5;21;01m.\u001b[39;00m\u001b[38;5;21;01mpyplot\u001b[39;00m \u001b[38;5;28;01mas\u001b[39;00m \u001b[38;5;21;01mplt\u001b[39;00m\n\u001b[0;32m      2\u001b[0m \u001b[38;5;28;01mimport\u001b[39;00m \u001b[38;5;21;01mnumpy\u001b[39;00m \u001b[38;5;28;01mas\u001b[39;00m \u001b[38;5;21;01mnp\u001b[39;00m\n\u001b[1;32m----> 3\u001b[0m \u001b[38;5;28;01mimport\u001b[39;00m \u001b[38;5;21;01mtensorflow\u001b[39;00m \u001b[38;5;28;01mas\u001b[39;00m \u001b[38;5;21;01mtf\u001b[39;00m\n\u001b[0;32m      4\u001b[0m \u001b[38;5;28;01mimport\u001b[39;00m \u001b[38;5;21;01mtensorflow_datasets\u001b[39;00m \u001b[38;5;28;01mas\u001b[39;00m \u001b[38;5;21;01mtfds\u001b[39;00m\n\u001b[0;32m      6\u001b[0m \u001b[38;5;28;01mfrom\u001b[39;00m \u001b[38;5;21;01mtensorflow\u001b[39;00m\u001b[38;5;21;01m.\u001b[39;00m\u001b[38;5;21;01mkeras\u001b[39;00m \u001b[38;5;28;01mimport\u001b[39;00m layers\n",
      "\u001b[1;31mModuleNotFoundError\u001b[0m: No module named 'tensorflow'"
     ]
    }
   ],
   "source": [
    "import matplotlib.pyplot as plt\n",
    "import numpy as np\n",
    "import tensorflow as tf\n",
    "import tensorflow_datasets as tfds\n",
    "\n",
    "from tensorflow.keras import layers"
   ]
  },
  {
   "cell_type": "code",
   "execution_count": null,
   "id": "771dff55",
   "metadata": {},
   "outputs": [],
   "source": [
    "data_augmentation = tf.keras.Sequential([\n",
    "  layers.RandomFlip(\"horizontal_and_vertical\"),\n",
    "  layers.RandomRotation(0.2),\n",
    "])\n",
    "\n",
    "# Add the image to a batch.\n",
    "image = tf.cast(tf.expand_dims(image, 0), tf.float32)\n",
    "\n",
    "plt.figure(figsize=(10, 10))\n",
    "for i in range(9):\n",
    "  augmented_image = data_augmentation(image)\n",
    "  ax = plt.subplot(3, 3, i + 1)\n",
    "  plt.imshow(augmented_image[0])\n",
    "  plt.axis(\"off\")"
   ]
  }
 ],
 "metadata": {
  "kernelspec": {
   "display_name": "Python 3 (ipykernel)",
   "language": "python",
   "name": "python3"
  },
  "language_info": {
   "codemirror_mode": {
    "name": "ipython",
    "version": 3
   },
   "file_extension": ".py",
   "mimetype": "text/x-python",
   "name": "python",
   "nbconvert_exporter": "python",
   "pygments_lexer": "ipython3",
   "version": "3.9.12"
  }
 },
 "nbformat": 4,
 "nbformat_minor": 5
}
